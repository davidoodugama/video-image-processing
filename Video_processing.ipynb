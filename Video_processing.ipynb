{
 "cells": [
  {
   "cell_type": "code",
   "execution_count": 22,
   "id": "512369f8",
   "metadata": {},
   "outputs": [],
   "source": [
    "import cv2\n",
    "import numpy as np\n",
    "import easyocr\n",
    "import matplotlib.pyplot as plt\n",
    "\n",
    "reader = easyocr.Reader(['en'], gpu = True)"
   ]
  },
  {
   "cell_type": "code",
   "execution_count": 12,
   "id": "e019652d",
   "metadata": {
    "scrolled": true
   },
   "outputs": [
    {
     "name": "stdout",
     "output_type": "stream",
     "text": [
      "([[419, 77], [629, 77], [629, 137], [419, 137]], 'Revision', 0.7219051902940774)\n"
     ]
    }
   ],
   "source": [
    "def nothing(x):\n",
    "    pass\n",
    "\n",
    "#cap = cv2.VideoCapture(0)\n",
    "# cv2.namedWindow(\"Trackbars\")\n",
    "\n",
    "# cv2.createTrackbar(\"L – H\", \"Trackbars\", 0, 179, nothing)\n",
    "# cv2.createTrackbar(\"L – S\", \"Trackbars\", 0, 255, nothing)\n",
    "# cv2.createTrackbar(\"L – V\", \"Trackbars\", 0, 255, nothing)\n",
    "# cv2.createTrackbar(\"U – H\", \"Trackbars\", 179, 179, nothing)\n",
    "# cv2.createTrackbar(\"U – S\", \"Trackbars\", 255, 255, nothing)\n",
    "# cv2.createTrackbar(\"U – V\", \"Trackbars\", 255, 255, nothing)\n",
    "\n",
    "# while True:\n",
    "#_, frame = cap.read()\n",
    "img = cv2.imread(\"image.jpg\")\n",
    "hsv = cv2.cvtColor(img, cv2.COLOR_BGR2HSV)\n",
    "\n",
    "#     l_h = cv2.getTrackbarPos(\"L – H\", \"Trackbars\")\n",
    "#     l_s = cv2.getTrackbarPos(\"L – S\", \"Trackbars\")\n",
    "#     l_v = cv2.getTrackbarPos(\"L – V\", \"Trackbars\")\n",
    "#     u_h = cv2.getTrackbarPos(\"U – H\", \"Trackbars\")\n",
    "#     u_s = cv2.getTrackbarPos(\"U – S\", \"Trackbars\")\n",
    "#     u_v = cv2.getTrackbarPos(\"U – V\", \"Trackbars\")\n",
    "\n",
    "lower_blue = np.array([0, 0, 0])\n",
    "upper_blue = np.array([179,255,204])\n",
    "mask = cv2.inRange(hsv, lower_blue, upper_blue)\n",
    "\n",
    "# cv2.imshow(\"mask\", mask)\n",
    "result = reader.readtext(mask)\n",
    "print(result[1])\n",
    "\n",
    "# if result != None:\n",
    "#     break\n",
    "\n",
    "key = cv2.waitKey(1)\n",
    "\n",
    "# if key == 27:\n",
    "#     break\n",
    "#result = cv2.bitwise_and(img, img, mask=mask)\n",
    "\n",
    "#cv2.imshow(\"img\", img)\n",
    "\n",
    "cv2.destroyAllWindows()"
   ]
  },
  {
   "cell_type": "code",
   "execution_count": 121,
   "id": "cc073e72",
   "metadata": {},
   "outputs": [
    {
     "data": {
      "text/plain": [
       "'Revision'"
      ]
     },
     "execution_count": 121,
     "metadata": {},
     "output_type": "execute_result"
    }
   ],
   "source": [
    "result[1][1]"
   ]
  },
  {
   "cell_type": "code",
   "execution_count": 122,
   "id": "f8c92123",
   "metadata": {},
   "outputs": [],
   "source": [
    "first_result_top_x = result[0][0][0][1]\n",
    "first_topic_name = result[0][1]"
   ]
  },
  {
   "cell_type": "markdown",
   "id": "7397a06b",
   "metadata": {},
   "source": [
    "# Get the topic by getting the first line comparing to the first word in the first line"
   ]
  },
  {
   "cell_type": "code",
   "execution_count": 126,
   "id": "675b1175",
   "metadata": {},
   "outputs": [],
   "source": [
    "for i in range(len(result)-1):\n",
    "    i += 1\n",
    "    if abs(first_result_top_x - result[i][0][0][1]) in range(0,20):\n",
    "        name = first_topic_name + \" \" + result[i][1]\n",
    "    "
   ]
  },
  {
   "cell_type": "code",
   "execution_count": 127,
   "id": "02fee3eb",
   "metadata": {},
   "outputs": [
    {
     "data": {
      "text/plain": [
       "'First Lesson Revision'"
      ]
     },
     "execution_count": 127,
     "metadata": {},
     "output_type": "execute_result"
    }
   ],
   "source": [
    "name"
   ]
  },
  {
   "cell_type": "markdown",
   "id": "10f926f9",
   "metadata": {},
   "source": [
    "# Drawing bounding box around the word"
   ]
  },
  {
   "cell_type": "code",
   "execution_count": 55,
   "id": "853d38e9",
   "metadata": {},
   "outputs": [],
   "source": [
    "top_left = tuple(result[0][0][1])\n",
    "bottom_right = tuple(result[1][0][2])\n",
    "text = result[0][1] + \" \" + result[1][1]\n",
    "font = cv2.FONT_HERSHEY_SIMPLEX"
   ]
  },
  {
   "cell_type": "code",
   "execution_count": 58,
   "id": "a9e0c642",
   "metadata": {},
   "outputs": [
    {
     "data": {
      "text/plain": [
       "[[94, 81], [380, 81], [380, 135], [94, 135]]"
      ]
     },
     "execution_count": 58,
     "metadata": {},
     "output_type": "execute_result"
    }
   ],
   "source": [
    "result[0][0]"
   ]
  },
  {
   "cell_type": "code",
   "execution_count": 73,
   "id": "4900648c",
   "metadata": {},
   "outputs": [
    {
     "data": {
      "text/plain": [
       "([[506, 294], [610, 294], [610, 318], [506, 318]],\n",
       " 'Activation',\n",
       " 0.9992524901789319)"
      ]
     },
     "execution_count": 73,
     "metadata": {},
     "output_type": "execute_result"
    }
   ],
   "source": [
    "result[3]"
   ]
  },
  {
   "cell_type": "code",
   "execution_count": 74,
   "id": "a7b03e79",
   "metadata": {},
   "outputs": [
    {
     "data": {
      "text/plain": [
       "104"
      ]
     },
     "execution_count": 74,
     "metadata": {},
     "output_type": "execute_result"
    }
   ],
   "source": [
    "lt = result[3][0][1][0]\n",
    "lb = result[3][0][0][0]\n",
    "\n",
    "lt - lb"
   ]
  },
  {
   "cell_type": "code",
   "execution_count": 68,
   "id": "103e2ceb",
   "metadata": {},
   "outputs": [
    {
     "data": {
      "text/plain": [
       "286"
      ]
     },
     "execution_count": 68,
     "metadata": {},
     "output_type": "execute_result"
    }
   ],
   "source": [
    "lt = result[0][0][1][0]\n",
    "lb = result[0][0][0][0]\n",
    "\n",
    "lt - lb"
   ]
  },
  {
   "cell_type": "code",
   "execution_count": 67,
   "id": "cf4d0d03",
   "metadata": {},
   "outputs": [
    {
     "data": {
      "text/plain": [
       "210"
      ]
     },
     "execution_count": 67,
     "metadata": {},
     "output_type": "execute_result"
    }
   ],
   "source": [
    "lt = result[1][0][1][0]\n",
    "lb = result[1][0][0][0]\n",
    "\n",
    "lt - lb"
   ]
  },
  {
   "cell_type": "code",
   "execution_count": 32,
   "id": "63f0203e",
   "metadata": {},
   "outputs": [
    {
     "data": {
      "text/plain": [
       "'First Lesson Revision'"
      ]
     },
     "execution_count": 32,
     "metadata": {},
     "output_type": "execute_result"
    }
   ],
   "source": [
    "text"
   ]
  },
  {
   "cell_type": "code",
   "execution_count": 56,
   "id": "759a202b",
   "metadata": {},
   "outputs": [
    {
     "data": {
      "image/png": "[encoded data removed]",
      "text/plain": [
       "<Figure size 432x288 with 1 Axes>"
      ]
     },
     "metadata": {
      "needs_background": "light"
     },
     "output_type": "display_data"
    }
   ],
   "source": [
    "img = cv2.imread(\"image.jpg\")\n",
    "img = cv2.rectangle(img, top_left, bottom_right, (0,255,0), 5)\n",
    "img = cv2.putText(img, text, top_left, font, .5, (0,0,0), 2, cv2.LINE_AA)\n",
    "plt.imshow(img)\n",
    "plt.show()"
   ]
  },
  {
   "cell_type": "code",
   "execution_count": null,
   "id": "ee3394c9",
   "metadata": {},
   "outputs": [],
   "source": []
  }
 ],
 "metadata": {
  "kernelspec": {
   "display_name": "Python 3 (ipykernel)",
   "language": "python",
   "name": "python3"
  },
  "language_info": {
   "codemirror_mode": {
    "name": "ipython",
    "version": 3
   },
   "file_extension": ".py",
   "mimetype": "text/x-python",
   "name": "python",
   "nbconvert_exporter": "python",
   "pygments_lexer": "ipython3",
   "version": "3.7.9"
  }
 },
 "nbformat": 4,
 "nbformat_minor": 5
}
