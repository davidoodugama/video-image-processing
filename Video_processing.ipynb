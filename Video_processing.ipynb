{
 "cells": [
  {
   "cell_type": "code",
   "execution_count": 1,
   "id": "512369f8",
   "metadata": {},
   "outputs": [
    {
     "ename": "ModuleNotFoundError",
     "evalue": "No module named 'easyocr'",
     "output_type": "error",
     "traceback": [
      "\u001b[1;31m---------------------------------------------------------------------------\u001b[0m",
      "\u001b[1;31mModuleNotFoundError\u001b[0m                       Traceback (most recent call last)",
      "\u001b[1;32m~\\AppData\\Local\\Temp\\ipykernel_20100\\2133108910.py\u001b[0m in \u001b[0;36m<module>\u001b[1;34m\u001b[0m\n\u001b[0;32m      1\u001b[0m \u001b[1;32mimport\u001b[0m \u001b[0mcv2\u001b[0m\u001b[1;33m\u001b[0m\u001b[1;33m\u001b[0m\u001b[0m\n\u001b[0;32m      2\u001b[0m \u001b[1;32mimport\u001b[0m \u001b[0mnumpy\u001b[0m \u001b[1;32mas\u001b[0m \u001b[0mnp\u001b[0m\u001b[1;33m\u001b[0m\u001b[1;33m\u001b[0m\u001b[0m\n\u001b[1;32m----> 3\u001b[1;33m \u001b[1;32mimport\u001b[0m \u001b[0measyocr\u001b[0m\u001b[1;33m\u001b[0m\u001b[1;33m\u001b[0m\u001b[0m\n\u001b[0m",
      "\u001b[1;31mModuleNotFoundError\u001b[0m: No module named 'easyocr'"
     ]
    }
   ],
   "source": [
    "import cv2\n",
    "import numpy as np\n",
    "import easyocr"
   ]
  },
  {
   "cell_type": "code",
   "execution_count": 2,
   "id": "bf790add",
   "metadata": {},
   "outputs": [
    {
     "name": "stdout",
     "output_type": "stream",
     "text": [
      "Collecting easygui\n",
      "  Downloading easygui-0.98.3-py2.py3-none-any.whl (92 kB)\n",
      "     ---------------------------------------- 92.7/92.7 KB 1.1 MB/s eta 0:00:00\n",
      "Installing collected packages: easygui\n",
      "Successfully installed easygui-0.98.3\n"
     ]
    }
   ],
   "source": [
    "!pip install easygui"
   ]
  },
  {
   "cell_type": "code",
   "execution_count": 5,
   "id": "e019652d",
   "metadata": {},
   "outputs": [],
   "source": [
    "def nothing(x):\n",
    "    pass\n",
    "\n",
    "#cap = cv2.VideoCapture(0)\n",
    "# cv2.namedWindow(\"Trackbars\")\n",
    "\n",
    "# cv2.createTrackbar(\"L – H\", \"Trackbars\", 0, 179, nothing)\n",
    "# cv2.createTrackbar(\"L – S\", \"Trackbars\", 0, 255, nothing)\n",
    "# cv2.createTrackbar(\"L – V\", \"Trackbars\", 0, 255, nothing)\n",
    "# cv2.createTrackbar(\"U – H\", \"Trackbars\", 179, 179, nothing)\n",
    "# cv2.createTrackbar(\"U – S\", \"Trackbars\", 255, 255, nothing)\n",
    "# cv2.createTrackbar(\"U – V\", \"Trackbars\", 255, 255, nothing)\n",
    "\n",
    "while True:\n",
    "    #_, frame = cap.read()\n",
    "    img = cv2.imread(\"image.jpg\")\n",
    "    hsv = cv2.cvtColor(img, cv2.COLOR_BGR2HSV)\n",
    "\n",
    "#     l_h = cv2.getTrackbarPos(\"L – H\", \"Trackbars\")\n",
    "#     l_s = cv2.getTrackbarPos(\"L – S\", \"Trackbars\")\n",
    "#     l_v = cv2.getTrackbarPos(\"L – V\", \"Trackbars\")\n",
    "#     u_h = cv2.getTrackbarPos(\"U – H\", \"Trackbars\")\n",
    "#     u_s = cv2.getTrackbarPos(\"U – S\", \"Trackbars\")\n",
    "#     u_v = cv2.getTrackbarPos(\"U – V\", \"Trackbars\")\n",
    "\n",
    "    lower_blue = np.array([0, 0, 0])\n",
    "    upper_blue = np.array([179,255,204])\n",
    "    mask = cv2.inRange(hsv, lower_blue, upper_blue)\n",
    "    \n",
    "    \n",
    "\n",
    "#     result = cv2.bitwise_and(img, img, mask=mask)\n",
    "\n",
    "#     cv2.imshow(\"img\", img)\n",
    "    cv2.imshow(\"mask\", mask)\n",
    "\n",
    "    key = cv2.waitKey(1)\n",
    "    if key == 27:\n",
    "        break\n",
    "\n",
    "cv2.destroyAllWindows()"
   ]
  },
  {
   "cell_type": "code",
   "execution_count": null,
   "id": "853d38e9",
   "metadata": {},
   "outputs": [],
   "source": []
  }
 ],
 "metadata": {
  "kernelspec": {
   "display_name": "audio_env",
   "language": "python",
   "name": "audio_env"
  },
  "language_info": {
   "codemirror_mode": {
    "name": "ipython",
    "version": 3
   },
   "file_extension": ".py",
   "mimetype": "text/x-python",
   "name": "python",
   "nbconvert_exporter": "python",
   "pygments_lexer": "ipython3",
   "version": "3.7.9"
  }
 },
 "nbformat": 4,
 "nbformat_minor": 5
}
