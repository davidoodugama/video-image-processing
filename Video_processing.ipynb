{
 "cells": [
  {
   "cell_type": "code",
   "execution_count": 1,
   "id": "512369f8",
   "metadata": {},
   "outputs": [],
   "source": [
    "import cv2\n",
    "import numpy as np\n",
    "import easyocr\n",
    "import matplotlib.pyplot as plt\n",
    "\n",
    "reader = easyocr.Reader(['en'], gpu = True)"
   ]
  },
  {
   "cell_type": "code",
   "execution_count": 63,
   "id": "8cbe272e",
   "metadata": {},
   "outputs": [],
   "source": [
    "with open(\"LDA.txt\", \"r\") as f:\n",
    "    text = [f.read()]"
   ]
  },
  {
   "cell_type": "code",
   "execution_count": 64,
   "id": "8037c741",
   "metadata": {},
   "outputs": [],
   "source": [
    "a = text[0].split(\"\\n\")"
   ]
  },
  {
   "cell_type": "code",
   "execution_count": 104,
   "id": "49cca544",
   "metadata": {},
   "outputs": [],
   "source": [
    "names = []\n",
    "for i in a:\n",
    "    b = i.split(\"*\")\n",
    "    for c in b:\n",
    "        e = c.split(\"+\")\n",
    "        for o in e:\n",
    "            if  o.strip().isnumeric() == False and isinstance(o.strip(), float) == False:\n",
    "                name = o.strip().replace('\"', \"\")\n",
    "                name = name.replace(\"'\", \"\")\n",
    "                names.append(name.rstrip())\n",
    "#     for j in c:\n",
    "#         print(j)"
   ]
  },
  {
   "cell_type": "code",
   "execution_count": 110,
   "id": "9c7bd430",
   "metadata": {},
   "outputs": [],
   "source": [
    "test_list = [i for i in names if i]"
   ]
  },
  {
   "cell_type": "code",
   "execution_count": 111,
   "id": "82c26bf2",
   "metadata": {
    "collapsed": true
   },
   "outputs": [
    {
     "name": "stdout",
     "output_type": "stream",
     "text": [
      "['0.066', 'guy', '0.066', 'extract', '0.035', 'nightly batch', '0.035', 'user requirement', '0.035', 'typical datum warehouse architecture', '0.035', 'datum transformation', '0.035', 'datum load', '0.035', 'correlation', '0.035', 'presentation', '0.035', 'data warehouse analyst', '0.071', 'datum', '0.071', 'last part', '0.071', 'summary datum', '0.071', 'business', '0.037', 'data warehouse', '0.037', 'first step', '0.037', 'us', '0.037', 'approach', '0.037', 'large relational database', '0.037', 'technology', '0.043', 'salesforce datum', '0.043', 'multi dimensional datum', '0.043', 'business', '0.043', 'datum state area', '0.043', 'general report', '0.043', 'productivity', '0.043', 'query', '0.043', 'various source', '0.043', 'process', '0.043', 'roll drill', '0.306', 'datum', '0.091', 'data warehouse', '0.038', 'user', '0.038', 'datum warehouse', '0.038', 'metadata', '0.020', 'extract', '0.020', 'olap', '0.020', 'data warehouse use', '0.020', 'pattern', '0.020', 'source', '0.071', 'data warehouse', '0.037', 'quick summary', '0.037', 'user requirement', '0.037', 'data', '0.037', 'separate video', '0.037', 'next step', '0.037', 'etl tool etl stand', '0.037', 'web server log third party datum', '0.037', 'important aspect', '0.037', 'channel', '0.096', 'video', '0.051', 'extract', '0.051', 'datum source layer', '0.051', 'single staging area', '0.051', 'staging area', '0.051', 'future video', '0.051', 'many different dimension', '0.051', 'various property', '0.005', 'datum', '0.005', 'data warehouse', '0.062', 'previous video', '0.062', 'warehouse', '0.062', 'various datum source', '0.033', 'standard architecture', '0.033', 'decision', '0.033', 'datum source layer', '0.033', 'erp system', '0.033', 'region', '0.033', 'multidimensional analytical query', '0.033', 'relationship', '0.186', 'information', '0.034', 'summary datum', '0.034', 'video', '0.034', 'datum source layer', '0.034', 'datum mining process', '0.034', 'datum warehouse architecture', '0.034', 'staging area', '0.034', 'typical architecture', '0.034', 'name', '0.034', 'example', '0.088', 'organization', '0.046', 'hope', '0.046', 'collection', '0.046', 'part', '0.046', 'detail', '0.046', 'one common area', '0.046', 'sap crm system', '0.046', 'warehouse base', '0.046', 'first layer', '0.046', 'online analytical processing']\n"
     ]
    }
   ],
   "source": [
    "print(test_list)"
   ]
  },
  {
   "cell_type": "code",
   "execution_count": 109,
   "id": "f5ae912a",
   "metadata": {},
   "outputs": [
    {
     "name": "stdout",
     "output_type": "stream",
     "text": [
      "yes\n"
     ]
    }
   ],
   "source": [
    "if 'nightly batch' in names:\n",
    "    print(\"yes\")"
   ]
  },
  {
   "cell_type": "code",
   "execution_count": 2,
   "id": "a5dbd00b",
   "metadata": {},
   "outputs": [],
   "source": [
    "import speech_recognition as sr\n",
    "r = sr.Recognizer()\n",
    "harvard = sr.AudioFile('test.wav')\n",
    "with harvard as source:\n",
    "    audio = r.record(source)"
   ]
  },
  {
   "cell_type": "code",
   "execution_count": 5,
   "id": "c9962475",
   "metadata": {},
   "outputs": [
    {
     "data": {
      "text/plain": [
       "speech_recognition.AudioData"
      ]
     },
     "execution_count": 5,
     "metadata": {},
     "output_type": "execute_result"
    }
   ],
   "source": [
    "type(audio)"
   ]
  },
  {
   "cell_type": "code",
   "execution_count": null,
   "id": "8daab7f5",
   "metadata": {},
   "outputs": [],
   "source": [
    "def check_topic(word):\n",
    "    if word in names:\n",
    "        print(yes)"
   ]
  },
  {
   "cell_type": "code",
   "execution_count": 2,
   "id": "e019652d",
   "metadata": {
    "scrolled": true
   },
   "outputs": [
    {
     "ename": "error",
     "evalue": "Unknown C++ exception from OpenCV code",
     "output_type": "error",
     "traceback": [
      "\u001b[1;31m---------------------------------------------------------------------------\u001b[0m",
      "\u001b[1;31merror\u001b[0m                                     Traceback (most recent call last)",
      "\u001b[1;32m~\\AppData\\Local\\Temp\\ipykernel_11852\\3553888887.py\u001b[0m in \u001b[0;36m<module>\u001b[1;34m\u001b[0m\n\u001b[0;32m     30\u001b[0m \u001b[1;31m# cv2.imshow(\"mask\", mask)\u001b[0m\u001b[1;33m\u001b[0m\u001b[1;33m\u001b[0m\u001b[1;33m\u001b[0m\u001b[0m\n\u001b[0;32m     31\u001b[0m \u001b[1;31m# READ TEXT FROM IMAGE\u001b[0m\u001b[1;33m\u001b[0m\u001b[1;33m\u001b[0m\u001b[1;33m\u001b[0m\u001b[0m\n\u001b[1;32m---> 32\u001b[1;33m \u001b[0mresult\u001b[0m \u001b[1;33m=\u001b[0m \u001b[0mreader\u001b[0m\u001b[1;33m.\u001b[0m\u001b[0mreadtext\u001b[0m\u001b[1;33m(\u001b[0m\u001b[0mmask\u001b[0m\u001b[1;33m)\u001b[0m\u001b[1;33m\u001b[0m\u001b[1;33m\u001b[0m\u001b[0m\n\u001b[0m\u001b[0;32m     33\u001b[0m \u001b[0mprint\u001b[0m\u001b[1;33m(\u001b[0m\u001b[0mresult\u001b[0m\u001b[1;33m[\u001b[0m\u001b[1;36m1\u001b[0m\u001b[1;33m]\u001b[0m\u001b[1;33m)\u001b[0m\u001b[1;33m\u001b[0m\u001b[1;33m\u001b[0m\u001b[0m\n\u001b[0;32m     34\u001b[0m \u001b[1;33m\u001b[0m\u001b[0m\n",
      "\u001b[1;32mc:\\users\\david\\appdata\\local\\programs\\python\\python37\\lib\\site-packages\\easyocr\\easyocr.py\u001b[0m in \u001b[0;36mreadtext\u001b[1;34m(self, image, decoder, beamWidth, batch_size, workers, allowlist, blocklist, detail, rotation_info, paragraph, min_size, contrast_ths, adjust_contrast, filter_ths, text_threshold, low_text, link_threshold, canvas_size, mag_ratio, slope_ths, ycenter_ths, height_ths, width_ths, y_ths, x_ths, add_margin, output_format)\u001b[0m\n\u001b[0;32m    395\u001b[0m                                                  \u001b[0mslope_ths\u001b[0m\u001b[1;33m,\u001b[0m \u001b[0mycenter_ths\u001b[0m\u001b[1;33m,\u001b[0m\u001b[0;31m\\\u001b[0m\u001b[1;33m\u001b[0m\u001b[1;33m\u001b[0m\u001b[0m\n\u001b[0;32m    396\u001b[0m                                                  \u001b[0mheight_ths\u001b[0m\u001b[1;33m,\u001b[0m\u001b[0mwidth_ths\u001b[0m\u001b[1;33m,\u001b[0m\u001b[0;31m\\\u001b[0m\u001b[1;33m\u001b[0m\u001b[1;33m\u001b[0m\u001b[0m\n\u001b[1;32m--> 397\u001b[1;33m                                                  add_margin, False)\n\u001b[0m\u001b[0;32m    398\u001b[0m         \u001b[1;31m# get the 1st result from hor & free list as self.detect returns a list of depth 3\u001b[0m\u001b[1;33m\u001b[0m\u001b[1;33m\u001b[0m\u001b[1;33m\u001b[0m\u001b[0m\n\u001b[0;32m    399\u001b[0m         \u001b[0mhorizontal_list\u001b[0m\u001b[1;33m,\u001b[0m \u001b[0mfree_list\u001b[0m \u001b[1;33m=\u001b[0m \u001b[0mhorizontal_list\u001b[0m\u001b[1;33m[\u001b[0m\u001b[1;36m0\u001b[0m\u001b[1;33m]\u001b[0m\u001b[1;33m,\u001b[0m \u001b[0mfree_list\u001b[0m\u001b[1;33m[\u001b[0m\u001b[1;36m0\u001b[0m\u001b[1;33m]\u001b[0m\u001b[1;33m\u001b[0m\u001b[1;33m\u001b[0m\u001b[0m\n",
      "\u001b[1;32mc:\\users\\david\\appdata\\local\\programs\\python\\python37\\lib\\site-packages\\easyocr\\easyocr.py\u001b[0m in \u001b[0;36mdetect\u001b[1;34m(self, img, min_size, text_threshold, low_text, link_threshold, canvas_size, mag_ratio, slope_ths, ycenter_ths, height_ths, width_ths, add_margin, reformat, optimal_num_chars)\u001b[0m\n\u001b[0;32m    279\u001b[0m         text_box_list = get_textbox(self.detector, img, canvas_size, mag_ratio,\n\u001b[0;32m    280\u001b[0m                                     \u001b[0mtext_threshold\u001b[0m\u001b[1;33m,\u001b[0m \u001b[0mlink_threshold\u001b[0m\u001b[1;33m,\u001b[0m \u001b[0mlow_text\u001b[0m\u001b[1;33m,\u001b[0m\u001b[1;33m\u001b[0m\u001b[1;33m\u001b[0m\u001b[0m\n\u001b[1;32m--> 281\u001b[1;33m                                     False, self.device, optimal_num_chars)\n\u001b[0m\u001b[0;32m    282\u001b[0m \u001b[1;33m\u001b[0m\u001b[0m\n\u001b[0;32m    283\u001b[0m         \u001b[0mhorizontal_list_agg\u001b[0m\u001b[1;33m,\u001b[0m \u001b[0mfree_list_agg\u001b[0m \u001b[1;33m=\u001b[0m \u001b[1;33m[\u001b[0m\u001b[1;33m]\u001b[0m\u001b[1;33m,\u001b[0m \u001b[1;33m[\u001b[0m\u001b[1;33m]\u001b[0m\u001b[1;33m\u001b[0m\u001b[1;33m\u001b[0m\u001b[0m\n",
      "\u001b[1;32mc:\\users\\david\\appdata\\local\\programs\\python\\python37\\lib\\site-packages\\easyocr\\detection.py\u001b[0m in \u001b[0;36mget_textbox\u001b[1;34m(detector, image, canvas_size, mag_ratio, text_threshold, link_threshold, low_text, poly, device, optimal_num_chars)\u001b[0m\n\u001b[0;32m     96\u001b[0m                                        \u001b[0mimage\u001b[0m\u001b[1;33m,\u001b[0m \u001b[0mtext_threshold\u001b[0m\u001b[1;33m,\u001b[0m\u001b[1;33m\u001b[0m\u001b[1;33m\u001b[0m\u001b[0m\n\u001b[0;32m     97\u001b[0m                                        \u001b[0mlink_threshold\u001b[0m\u001b[1;33m,\u001b[0m \u001b[0mlow_text\u001b[0m\u001b[1;33m,\u001b[0m \u001b[0mpoly\u001b[0m\u001b[1;33m,\u001b[0m\u001b[1;33m\u001b[0m\u001b[1;33m\u001b[0m\u001b[0m\n\u001b[1;32m---> 98\u001b[1;33m                                        device, estimate_num_chars)\n\u001b[0m\u001b[0;32m     99\u001b[0m     \u001b[1;32mif\u001b[0m \u001b[0mestimate_num_chars\u001b[0m\u001b[1;33m:\u001b[0m\u001b[1;33m\u001b[0m\u001b[1;33m\u001b[0m\u001b[0m\n\u001b[0;32m    100\u001b[0m         polys_list = [[p for p, _ in sorted(polys, key=lambda x: abs(optimal_num_chars - x[1]))]\n",
      "\u001b[1;32mc:\\users\\david\\appdata\\local\\programs\\python\\python37\\lib\\site-packages\\easyocr\\detection.py\u001b[0m in \u001b[0;36mtest_net\u001b[1;34m(canvas_size, mag_ratio, net, image, text_threshold, link_threshold, low_text, poly, device, estimate_num_chars)\u001b[0m\n\u001b[0;32m     54\u001b[0m         \u001b[1;31m# Post-processing\u001b[0m\u001b[1;33m\u001b[0m\u001b[1;33m\u001b[0m\u001b[1;33m\u001b[0m\u001b[0m\n\u001b[0;32m     55\u001b[0m         boxes, polys, mapper = getDetBoxes(\n\u001b[1;32m---> 56\u001b[1;33m             score_text, score_link, text_threshold, link_threshold, low_text, poly, estimate_num_chars)\n\u001b[0m\u001b[0;32m     57\u001b[0m \u001b[1;33m\u001b[0m\u001b[0m\n\u001b[0;32m     58\u001b[0m         \u001b[1;31m# coordinate adjustment\u001b[0m\u001b[1;33m\u001b[0m\u001b[1;33m\u001b[0m\u001b[1;33m\u001b[0m\u001b[0m\n",
      "\u001b[1;32mc:\\users\\david\\appdata\\local\\programs\\python\\python37\\lib\\site-packages\\easyocr\\craft_utils.py\u001b[0m in \u001b[0;36mgetDetBoxes\u001b[1;34m(textmap, linkmap, text_threshold, link_threshold, low_text, poly, estimate_num_chars)\u001b[0m\n\u001b[0;32m    234\u001b[0m     \u001b[1;32mif\u001b[0m \u001b[0mpoly\u001b[0m \u001b[1;32mand\u001b[0m \u001b[0mestimate_num_chars\u001b[0m\u001b[1;33m:\u001b[0m\u001b[1;33m\u001b[0m\u001b[1;33m\u001b[0m\u001b[0m\n\u001b[0;32m    235\u001b[0m         \u001b[1;32mraise\u001b[0m \u001b[0mException\u001b[0m\u001b[1;33m(\u001b[0m\u001b[1;34m\"Estimating the number of characters not currently supported with poly.\"\u001b[0m\u001b[1;33m)\u001b[0m\u001b[1;33m\u001b[0m\u001b[1;33m\u001b[0m\u001b[0m\n\u001b[1;32m--> 236\u001b[1;33m     \u001b[0mboxes\u001b[0m\u001b[1;33m,\u001b[0m \u001b[0mlabels\u001b[0m\u001b[1;33m,\u001b[0m \u001b[0mmapper\u001b[0m \u001b[1;33m=\u001b[0m \u001b[0mgetDetBoxes_core\u001b[0m\u001b[1;33m(\u001b[0m\u001b[0mtextmap\u001b[0m\u001b[1;33m,\u001b[0m \u001b[0mlinkmap\u001b[0m\u001b[1;33m,\u001b[0m \u001b[0mtext_threshold\u001b[0m\u001b[1;33m,\u001b[0m \u001b[0mlink_threshold\u001b[0m\u001b[1;33m,\u001b[0m \u001b[0mlow_text\u001b[0m\u001b[1;33m,\u001b[0m \u001b[0mestimate_num_chars\u001b[0m\u001b[1;33m)\u001b[0m\u001b[1;33m\u001b[0m\u001b[1;33m\u001b[0m\u001b[0m\n\u001b[0m\u001b[0;32m    237\u001b[0m \u001b[1;33m\u001b[0m\u001b[0m\n\u001b[0;32m    238\u001b[0m     \u001b[1;32mif\u001b[0m \u001b[0mpoly\u001b[0m\u001b[1;33m:\u001b[0m\u001b[1;33m\u001b[0m\u001b[1;33m\u001b[0m\u001b[0m\n",
      "\u001b[1;32mc:\\users\\david\\appdata\\local\\programs\\python\\python37\\lib\\site-packages\\easyocr\\craft_utils.py\u001b[0m in \u001b[0;36mgetDetBoxes_core\u001b[1;34m(textmap, linkmap, text_threshold, link_threshold, low_text, estimate_num_chars)\u001b[0m\n\u001b[0;32m     29\u001b[0m \u001b[1;33m\u001b[0m\u001b[0m\n\u001b[0;32m     30\u001b[0m     \u001b[0mtext_score_comb\u001b[0m \u001b[1;33m=\u001b[0m \u001b[0mnp\u001b[0m\u001b[1;33m.\u001b[0m\u001b[0mclip\u001b[0m\u001b[1;33m(\u001b[0m\u001b[0mtext_score\u001b[0m \u001b[1;33m+\u001b[0m \u001b[0mlink_score\u001b[0m\u001b[1;33m,\u001b[0m \u001b[1;36m0\u001b[0m\u001b[1;33m,\u001b[0m \u001b[1;36m1\u001b[0m\u001b[1;33m)\u001b[0m\u001b[1;33m\u001b[0m\u001b[1;33m\u001b[0m\u001b[0m\n\u001b[1;32m---> 31\u001b[1;33m     \u001b[0mnLabels\u001b[0m\u001b[1;33m,\u001b[0m \u001b[0mlabels\u001b[0m\u001b[1;33m,\u001b[0m \u001b[0mstats\u001b[0m\u001b[1;33m,\u001b[0m \u001b[0mcentroids\u001b[0m \u001b[1;33m=\u001b[0m \u001b[0mcv2\u001b[0m\u001b[1;33m.\u001b[0m\u001b[0mconnectedComponentsWithStats\u001b[0m\u001b[1;33m(\u001b[0m\u001b[0mtext_score_comb\u001b[0m\u001b[1;33m.\u001b[0m\u001b[0mastype\u001b[0m\u001b[1;33m(\u001b[0m\u001b[0mnp\u001b[0m\u001b[1;33m.\u001b[0m\u001b[0muint8\u001b[0m\u001b[1;33m)\u001b[0m\u001b[1;33m,\u001b[0m \u001b[0mconnectivity\u001b[0m\u001b[1;33m=\u001b[0m\u001b[1;36m4\u001b[0m\u001b[1;33m)\u001b[0m\u001b[1;33m\u001b[0m\u001b[1;33m\u001b[0m\u001b[0m\n\u001b[0m\u001b[0;32m     32\u001b[0m \u001b[1;33m\u001b[0m\u001b[0m\n\u001b[0;32m     33\u001b[0m     \u001b[0mdet\u001b[0m \u001b[1;33m=\u001b[0m \u001b[1;33m[\u001b[0m\u001b[1;33m]\u001b[0m\u001b[1;33m\u001b[0m\u001b[1;33m\u001b[0m\u001b[0m\n",
      "\u001b[1;31merror\u001b[0m: Unknown C++ exception from OpenCV code"
     ]
    }
   ],
   "source": [
    "def nothing(x):\n",
    "    pass\n",
    "\n",
    "#cap = cv2.VideoCapture(0)\n",
    "# cv2.namedWindow(\"Trackbars\")\n",
    "\n",
    "# cv2.createTrackbar(\"L – H\", \"Trackbars\", 0, 179, nothing)\n",
    "# cv2.createTrackbar(\"L – S\", \"Trackbars\", 0, 255, nothing)\n",
    "# cv2.createTrackbar(\"L – V\", \"Trackbars\", 0, 255, nothing)\n",
    "# cv2.createTrackbar(\"U – H\", \"Trackbars\", 179, 179, nothing)\n",
    "# cv2.createTrackbar(\"U – S\", \"Trackbars\", 255, 255, nothing)\n",
    "# cv2.createTrackbar(\"U – V\", \"Trackbars\", 255, 255, nothing)\n",
    "\n",
    "# while True:\n",
    "#_, frame = cap.read()\n",
    "img = cv2.imread(\"image.jpg\")\n",
    "hsv = cv2.cvtColor(img, cv2.COLOR_BGR2HSV)\n",
    "\n",
    "#     l_h = cv2.getTrackbarPos(\"L – H\", \"Trackbars\")\n",
    "#     l_s = cv2.getTrackbarPos(\"L – S\", \"Trackbars\")\n",
    "#     l_v = cv2.getTrackbarPos(\"L – V\", \"Trackbars\")\n",
    "#     u_h = cv2.getTrackbarPos(\"U – H\", \"Trackbars\")\n",
    "#     u_s = cv2.getTrackbarPos(\"U – S\", \"Trackbars\")\n",
    "#     u_v = cv2.getTrackbarPos(\"U – V\", \"Trackbars\")\n",
    "\n",
    "lower_blue = np.array([0, 0, 0])\n",
    "upper_blue = np.array([179,255,204])\n",
    "mask = cv2.inRange(hsv, lower_blue, upper_blue)\n",
    "\n",
    "# cv2.imshow(\"mask\", mask)\n",
    "# READ TEXT FROM IMAGE\n",
    "result = reader.readtext(mask)\n",
    "print(result[1])\n",
    "\n",
    "# if result != None:\n",
    "#     break\n",
    "\n",
    "key = cv2.waitKey(1)\n",
    "\n",
    "# if key == 27:\n",
    "#     break\n",
    "#result = cv2.bitwise_and(img, img, mask=mask)\n",
    "\n",
    "#cv2.imshow(\"img\", img)\n",
    "\n",
    "cv2.destroyAllWindows()"
   ]
  },
  {
   "cell_type": "code",
   "execution_count": 3,
   "id": "cc073e72",
   "metadata": {},
   "outputs": [
    {
     "data": {
      "text/plain": [
       "'Revision'"
      ]
     },
     "execution_count": 3,
     "metadata": {},
     "output_type": "execute_result"
    }
   ],
   "source": [
    "result[1][1]"
   ]
  },
  {
   "cell_type": "code",
   "execution_count": 3,
   "id": "f8c92123",
   "metadata": {},
   "outputs": [],
   "source": [
    "first_result_top_x = result[0][0][0][1]\n",
    "first_topic_name = result[0][1]"
   ]
  },
  {
   "cell_type": "markdown",
   "id": "7397a06b",
   "metadata": {},
   "source": [
    "# Get the topic by getting the first line comparing to the first word in the first line"
   ]
  },
  {
   "cell_type": "code",
   "execution_count": null,
   "id": "91f5eeaa",
   "metadata": {},
   "outputs": [],
   "source": [
    "def word2vec(word):\n",
    "    "
   ]
  },
  {
   "cell_type": "code",
   "execution_count": 4,
   "id": "675b1175",
   "metadata": {},
   "outputs": [],
   "source": [
    "for i in range(len(result)-1):\n",
    "    i += 1\n",
    "    if abs(first_result_top_x - result[i][0][0][1]) in range(0,20):\n",
    "        name = first_topic_name + \" \" + result[i][1]\n",
    "    "
   ]
  },
  {
   "cell_type": "code",
   "execution_count": 5,
   "id": "02fee3eb",
   "metadata": {},
   "outputs": [
    {
     "data": {
      "text/plain": [
       "'First Lesson Revision'"
      ]
     },
     "execution_count": 5,
     "metadata": {},
     "output_type": "execute_result"
    }
   ],
   "source": [
    "name"
   ]
  },
  {
   "cell_type": "markdown",
   "id": "10f926f9",
   "metadata": {},
   "source": [
    "# Drawing bounding box around the word"
   ]
  },
  {
   "cell_type": "code",
   "execution_count": 13,
   "id": "d19102f8",
   "metadata": {},
   "outputs": [
    {
     "data": {
      "text/plain": [
       "0.9963750427574505"
      ]
     },
     "execution_count": 13,
     "metadata": {},
     "output_type": "execute_result"
    }
   ],
   "source": [
    "result[1][2]"
   ]
  },
  {
   "cell_type": "code",
   "execution_count": 21,
   "id": "853d38e9",
   "metadata": {},
   "outputs": [],
   "source": [
    "top_left = tuple(result[0][0][0])\n",
    "bottom_right = tuple(result[1][0][2])\n",
    "text = result[0][1] + \" \" + result[1][1]\n",
    "font = cv2.FONT_HERSHEY_SIMPLEX"
   ]
  },
  {
   "cell_type": "code",
   "execution_count": 14,
   "id": "ba98b7d2",
   "metadata": {},
   "outputs": [
    {
     "data": {
      "text/plain": [
       "'First Lesson Revision'"
      ]
     },
     "execution_count": 14,
     "metadata": {},
     "output_type": "execute_result"
    }
   ],
   "source": [
    "text"
   ]
  },
  {
   "cell_type": "code",
   "execution_count": 58,
   "id": "a9e0c642",
   "metadata": {},
   "outputs": [
    {
     "data": {
      "text/plain": [
       "[[94, 81], [380, 81], [380, 135], [94, 135]]"
      ]
     },
     "execution_count": 58,
     "metadata": {},
     "output_type": "execute_result"
    }
   ],
   "source": [
    "result[0][0]"
   ]
  },
  {
   "cell_type": "code",
   "execution_count": 73,
   "id": "4900648c",
   "metadata": {},
   "outputs": [
    {
     "data": {
      "text/plain": [
       "([[506, 294], [610, 294], [610, 318], [506, 318]],\n",
       " 'Activation',\n",
       " 0.9992524901789319)"
      ]
     },
     "execution_count": 73,
     "metadata": {},
     "output_type": "execute_result"
    }
   ],
   "source": [
    "result[3]"
   ]
  },
  {
   "cell_type": "code",
   "execution_count": 74,
   "id": "a7b03e79",
   "metadata": {},
   "outputs": [
    {
     "data": {
      "text/plain": [
       "104"
      ]
     },
     "execution_count": 74,
     "metadata": {},
     "output_type": "execute_result"
    }
   ],
   "source": [
    "lt = result[3][0][1][0]\n",
    "lb = result[3][0][0][0]\n",
    "\n",
    "lt - lb"
   ]
  },
  {
   "cell_type": "code",
   "execution_count": 68,
   "id": "103e2ceb",
   "metadata": {},
   "outputs": [
    {
     "data": {
      "text/plain": [
       "286"
      ]
     },
     "execution_count": 68,
     "metadata": {},
     "output_type": "execute_result"
    }
   ],
   "source": [
    "lt = result[0][0][1][0]\n",
    "lb = result[0][0][0][0]\n",
    "\n",
    "lt - lb"
   ]
  },
  {
   "cell_type": "code",
   "execution_count": 67,
   "id": "cf4d0d03",
   "metadata": {},
   "outputs": [
    {
     "data": {
      "text/plain": [
       "210"
      ]
     },
     "execution_count": 67,
     "metadata": {},
     "output_type": "execute_result"
    }
   ],
   "source": [
    "lt = result[1][0][1][0]\n",
    "lb = result[1][0][0][0]\n",
    "\n",
    "lt - lb"
   ]
  },
  {
   "cell_type": "code",
   "execution_count": 32,
   "id": "63f0203e",
   "metadata": {},
   "outputs": [
    {
     "data": {
      "text/plain": [
       "'First Lesson Revision'"
      ]
     },
     "execution_count": 32,
     "metadata": {},
     "output_type": "execute_result"
    }
   ],
   "source": [
    "text"
   ]
  },
  {
   "cell_type": "code",
   "execution_count": 22,
   "id": "759a202b",
   "metadata": {},
   "outputs": [
    {
     "data": {
      "image/png": "[encoded data removed]",
      "text/plain": [
       "<Figure size 432x288 with 1 Axes>"
      ]
     },
     "metadata": {
      "needs_background": "light"
     },
     "output_type": "display_data"
    }
   ],
   "source": [
    "img = cv2.imread(\"image.jpg\")\n",
    "img = cv2.rectangle(img, top_left, bottom_right, (0,255,0), 5)\n",
    "img = cv2.putText(img, text, top_left, font, .5, (0,0,0), 2, cv2.LINE_AA)\n",
    "plt.imshow(img)\n",
    "plt.show()"
   ]
  },
  {
   "cell_type": "code",
   "execution_count": null,
   "id": "ee3394c9",
   "metadata": {},
   "outputs": [],
   "source": []
  }
 ],
 "metadata": {
  "kernelspec": {
   "display_name": "Python 3 (ipykernel)",
   "language": "python",
   "name": "python3"
  },
  "language_info": {
   "codemirror_mode": {
    "name": "ipython",
    "version": 3
   },
   "file_extension": ".py",
   "mimetype": "text/x-python",
   "name": "python",
   "nbconvert_exporter": "python",
   "pygments_lexer": "ipython3",
   "version": "3.7.9"
  }
 },
 "nbformat": 4,
 "nbformat_minor": 5
}
