{
 "cells": [
  {
   "cell_type": "code",
   "execution_count": 1,
   "id": "512369f8",
   "metadata": {},
   "outputs": [],
   "source": [
    "import cv2\n",
    "import numpy as np"
   ]
  },
  {
   "cell_type": "code",
   "execution_count": 5,
   "id": "e019652d",
   "metadata": {},
   "outputs": [],
   "source": [
    "def nothing(x):\n",
    "    pass\n",
    "\n",
    "#cap = cv2.VideoCapture(0)\n",
    "# cv2.namedWindow(\"Trackbars\")\n",
    "\n",
    "# cv2.createTrackbar(\"L – H\", \"Trackbars\", 0, 179, nothing)\n",
    "# cv2.createTrackbar(\"L – S\", \"Trackbars\", 0, 255, nothing)\n",
    "# cv2.createTrackbar(\"L – V\", \"Trackbars\", 0, 255, nothing)\n",
    "# cv2.createTrackbar(\"U – H\", \"Trackbars\", 179, 179, nothing)\n",
    "# cv2.createTrackbar(\"U – S\", \"Trackbars\", 255, 255, nothing)\n",
    "# cv2.createTrackbar(\"U – V\", \"Trackbars\", 255, 255, nothing)\n",
    "\n",
    "while True:\n",
    "    #_, frame = cap.read()\n",
    "    img = cv2.imread(\"image.jpg\")\n",
    "    hsv = cv2.cvtColor(img, cv2.COLOR_BGR2HSV)\n",
    "\n",
    "#     l_h = cv2.getTrackbarPos(\"L – H\", \"Trackbars\")\n",
    "#     l_s = cv2.getTrackbarPos(\"L – S\", \"Trackbars\")\n",
    "#     l_v = cv2.getTrackbarPos(\"L – V\", \"Trackbars\")\n",
    "#     u_h = cv2.getTrackbarPos(\"U – H\", \"Trackbars\")\n",
    "#     u_s = cv2.getTrackbarPos(\"U – S\", \"Trackbars\")\n",
    "#     u_v = cv2.getTrackbarPos(\"U – V\", \"Trackbars\")\n",
    "\n",
    "    lower_blue = np.array([0, 0, 0])\n",
    "    upper_blue = np.array([179,255,204])\n",
    "    mask = cv2.inRange(hsv, lower_blue, upper_blue)\n",
    "\n",
    "#     result = cv2.bitwise_and(img, img, mask=mask)\n",
    "\n",
    "#     cv2.imshow(\"img\", img)\n",
    "    cv2.imshow(\"mask\", mask)\n",
    "\n",
    "    key = cv2.waitKey(1)\n",
    "    if key == 27:\n",
    "        break\n",
    "\n",
    "cv2.destroyAllWindows()"
   ]
  },
  {
   "cell_type": "code",
   "execution_count": null,
   "id": "853d38e9",
   "metadata": {},
   "outputs": [],
   "source": []
  }
 ],
 "metadata": {
  "kernelspec": {
   "display_name": "audio_env",
   "language": "python",
   "name": "audio_env"
  },
  "language_info": {
   "codemirror_mode": {
    "name": "ipython",
    "version": 3
   },
   "file_extension": ".py",
   "mimetype": "text/x-python",
   "name": "python",
   "nbconvert_exporter": "python",
   "pygments_lexer": "ipython3",
   "version": "3.7.9"
  }
 },
 "nbformat": 4,
 "nbformat_minor": 5
}
